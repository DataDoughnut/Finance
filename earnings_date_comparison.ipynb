{
 "cells": [
  {
   "cell_type": "code",
   "execution_count": 51,
   "id": "b4c91ba6",
   "metadata": {},
   "outputs": [
    {
     "name": "stdout",
     "output_type": "stream",
     "text": [
      "Empty DataFrame\n",
      "Columns: [date, market_period, reportedDate, reportTime, date_equal, time_equal, total_equal]\n",
      "Index: []\n"
     ]
    },
    {
     "name": "stderr",
     "output_type": "stream",
     "text": [
      "C:\\Users\\Brandon\\AppData\\Local\\Temp\\ipykernel_24580\\1946213777.py:59: SettingWithCopyWarning: \n",
      "A value is trying to be set on a copy of a slice from a DataFrame.\n",
      "Try using .loc[row_indexer,col_indexer] = value instead\n",
      "\n",
      "See the caveats in the documentation: https://pandas.pydata.org/pandas-docs/stable/user_guide/indexing.html#returning-a-view-versus-a-copy\n",
      "  benzinga_earnings.loc[:,'market_period'] = market_periods\n"
     ]
    }
   ],
   "source": [
    "#Import packages\n",
    "from polygon.rest import RESTClient\n",
    "import requests\n",
    "import pandas as pd\n",
    "import os\n",
    "import numpy as np\n",
    "import datetime as dt\n",
    "\n",
    "#Import polygon API key from file\n",
    "polygon_api_key = open(\"polygon_io_api_key.txt\").read()\n",
    "alphavantage_api_key = open(\"alphavantage_api_key.txt\").read()\n",
    "\n",
    "client = RESTClient(\"polygon_api_key\")\n",
    "\n",
    "ticker = \"intu\".upper()\n",
    "\n",
    "url = f\"https://api.polygon.io/benzinga/v1/earnings?ticker={ticker}&limit=100&sort=date.desc&apiKey={polygon_api_key}&date_status=confirmed\"\n",
    "r = requests.get(url)\n",
    "data = r.json()\n",
    "\n",
    "df_len = []\n",
    "for i in range(len(data[\"results\"])):\n",
    "    df_len.append(i)\n",
    "\n",
    "\n",
    "df = pd.DataFrame(data[\"results\"], index=df_len)\n",
    "df_column_drop = ['currency','date_status','benzinga_id','importance','company_name','estimated_revenue','previous_revenue','last_updated','eps_surprise','eps_method','actual_revenue','revenue_surprise','revenue_method']\n",
    "df.drop(df_column_drop, axis='columns', inplace=True)\n",
    "\n",
    "# Calls the API to get earnings data\n",
    "url = f'https://www.alphavantage.co/query?function=EARNINGS&symbol={ticker}&apikey={alphavantage_api_key}'\n",
    "r = requests.get(url)\n",
    "earnings = r.json()\n",
    "\n",
    "# Extract quarterly earnings data\n",
    "quarterly_earnings = earnings['quarterlyEarnings']\n",
    "\n",
    "# Convert quarterly earnings data into a DataFrame\n",
    "quarterly_earnings_df = pd.DataFrame(quarterly_earnings)\n",
    "\n",
    "last_earnings = quarterly_earnings_df[[\"reportedDate\",\"reportTime\"]]\n",
    "\n",
    "alpha_earnings = last_earnings\n",
    "\n",
    "benzinga_earnings = df[[\"date\",\"time\"]]\n",
    "\n",
    "benzinga_earnings.loc[:, \"time\"] = pd.to_datetime(benzinga_earnings[\"time\"], format='%H:%M:%S').dt.time\n",
    "\n",
    "#print(benzina_earnings[\"time\"])\n",
    "noon = dt.time(12,0,0)\n",
    "market_periods = []\n",
    "\n",
    "for time in benzinga_earnings[\"time\"]:\n",
    "    if time >= noon:\n",
    "        market_periods.append('post-market')\n",
    "    else:\n",
    "        market_periods.append('pre-market')\n",
    "\n",
    "benzinga_earnings.loc[:,'market_period'] = market_periods\n",
    "benzinga_earnings = benzinga_earnings.drop('time',axis=1)\n",
    "\n",
    "\n",
    "merged_df = pd.merge(benzinga_earnings, alpha_earnings, left_index=True, right_index=True, how='inner')\n",
    "merged_df.loc[:,'date_equal'] = merged_df['date'] == merged_df['reportedDate'] \n",
    "merged_df.loc[:,'time_equal'] = merged_df['market_period'] == merged_df['reportTime']\n",
    "merged_df.loc[:,'total_equal'] = merged_df['date_equal'] & merged_df['time_equal']\n",
    "merged_df_true = merged_df[merged_df['total_equal'] == False]\n",
    "print(merged_df_true)\n"
   ]
  }
 ],
 "metadata": {
  "kernelspec": {
   "display_name": "Python 3",
   "language": "python",
   "name": "python3"
  },
  "language_info": {
   "codemirror_mode": {
    "name": "ipython",
    "version": 3
   },
   "file_extension": ".py",
   "mimetype": "text/x-python",
   "name": "python",
   "nbconvert_exporter": "python",
   "pygments_lexer": "ipython3",
   "version": "3.12.10"
  }
 },
 "nbformat": 4,
 "nbformat_minor": 5
}
