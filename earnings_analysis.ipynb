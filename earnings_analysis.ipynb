{
 "cells": [
  {
   "cell_type": "code",
   "execution_count": null,
   "metadata": {},
   "outputs": [],
   "source": [
    "#Import packages\n",
    "from polygon.rest import RESTClient\n",
    "import datetime as dt\n",
    "from dateutil.relativedelta import relativedelta\n",
    "import pandas as pd\n",
    "\n",
    "#Import polygon API key from file\n",
    "polygon_api_key = open(\"polygon_io_api_key.txt\").read()\n",
    "\n",
    "#Set Dates (free API only goes back 2 years)\n",
    "current_date = dt.datetime.now().date()\n",
    "past_date = current_date - relativedelta(years=2)"
   ]
  },
  {
   "cell_type": "code",
   "execution_count": null,
   "metadata": {},
   "outputs": [],
   "source": [
    "#Run API\n",
    "ticker = \"aapl\".upper()\n",
    "\n",
    "client = RESTClient(polygon_api_key)\n",
    "\n",
    "aggs = []\n",
    "for a in client.list_aggs(\n",
    "    ticker,\n",
    "    1,\n",
    "    \"day\",\n",
    "    past_date,\n",
    "    current_date,\n",
    "    adjusted=\"true\",\n",
    "    sort=\"asc\",\n",
    "):\n",
    "    aggs.append(a)"
   ]
  },
  {
   "cell_type": "code",
   "execution_count": 51,
   "metadata": {},
   "outputs": [
    {
     "name": "stdout",
     "output_type": "stream",
     "text": [
      "               open      high      low   close       volume      vwap  \\\n",
      "date                                                                    \n",
      "2023-08-14  177.970  179.6900  177.305  179.46   43675627.0  178.9475   \n",
      "2023-08-15  178.880  179.4800  177.050  177.45   43622593.0  177.9890   \n",
      "2023-08-16  177.130  178.5400  176.500  176.57   46964857.0  177.4365   \n",
      "2023-08-17  177.140  177.5054  173.480  174.00   66062882.0  174.5857   \n",
      "2023-08-18  172.300  175.1000  171.960  174.49   61172150.0  173.8845   \n",
      "...             ...       ...      ...     ...          ...       ...   \n",
      "2025-08-05  203.400  205.3400  202.160  202.92   44155079.0  203.5480   \n",
      "2025-08-06  205.630  215.3800  205.590  213.25  108483103.0  212.8573   \n",
      "2025-08-07  218.875  220.8500  216.580  220.03   90224834.0  219.3267   \n",
      "2025-08-08  220.830  231.0000  219.250  229.35  113853967.0  227.3071   \n",
      "2025-08-11  227.920  229.5600  224.760  227.18   61806132.0  227.3230   \n",
      "\n",
      "                timestamp  transactions   otc ticker  \n",
      "date                                                  \n",
      "2023-08-14  1691985600000        564982  None   AAPL  \n",
      "2023-08-15  1692072000000        510073  None   AAPL  \n",
      "2023-08-16  1692158400000        526076  None   AAPL  \n",
      "2023-08-17  1692244800000        673084  None   AAPL  \n",
      "2023-08-18  1692331200000        596484  None   AAPL  \n",
      "...                   ...           ...   ...    ...  \n",
      "2025-08-05  1754366400000        491748  None   AAPL  \n",
      "2025-08-06  1754452800000       1104103  None   AAPL  \n",
      "2025-08-07  1754539200000       1007838  None   AAPL  \n",
      "2025-08-08  1754625600000       1135405  None   AAPL  \n",
      "2025-08-11  1754884800000        692122  None   AAPL  \n",
      "\n",
      "[500 rows x 10 columns]\n"
     ]
    }
   ],
   "source": [
    "#Convert results to a dataframe\n",
    "df = pd.DataFrame(aggs)\n",
    "\n",
    "#transform timestamp to date\n",
    "df[\"date\"] = pd.to_datetime(df[\"timestamp\"], unit=\"ms\")\n",
    "df[\"date\"] = df[\"date\"].dt.date\n",
    "\n",
    "#set index of df to date\n",
    "df.set_index(\"date\", inplace=True)\n",
    "df[\"ticker\"] = ticker\n",
    "print(df)"
   ]
  }
 ],
 "metadata": {
  "kernelspec": {
   "display_name": "Python 3",
   "language": "python",
   "name": "python3"
  },
  "language_info": {
   "codemirror_mode": {
    "name": "ipython",
    "version": 3
   },
   "file_extension": ".py",
   "mimetype": "text/x-python",
   "name": "python",
   "nbconvert_exporter": "python",
   "pygments_lexer": "ipython3",
   "version": "3.12.10"
  }
 },
 "nbformat": 4,
 "nbformat_minor": 2
}
