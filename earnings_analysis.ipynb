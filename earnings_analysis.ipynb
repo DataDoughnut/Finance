{
 "cells": [
  {
   "cell_type": "code",
   "execution_count": 6,
   "metadata": {},
   "outputs": [],
   "source": [
    "f = open(\"polygon_io_api_key.gitignore\").read()"
   ]
  },
  {
   "cell_type": "code",
   "execution_count": 8,
   "metadata": {},
   "outputs": [
    {
     "name": "stdout",
     "output_type": "stream",
     "text": [
      "DailyOpenCloseAgg(after_hours=219.26, close=213.25, from_='2025-08-06', high=215.38, low=205.59, open=205.63, pre_market=203.33, status='OK', symbol='AAPL', volume=108483103.0, otc=None)\n"
     ]
    }
   ],
   "source": [
    "#Import packages\n",
    "from polygon.rest import RESTClient\n",
    "\n",
    "#Apply API Key\n",
    "polygon_api_key = open(\"polygon_io_api_key.gitignore\").read()\n",
    "\n",
    "#Variable\n",
    "ticker = \"aapl\".upper()\n",
    "\n",
    "client = RESTClient(polygon_api_key)\n",
    "\n",
    "request = client.get_daily_open_close_agg(\n",
    "    \"AAPL\",\n",
    "    \"2025-08-06\",\n",
    "    adjusted=\"true\",\n",
    ")\n",
    "\n",
    "print(request)"
   ]
  },
  {
   "cell_type": "code",
   "execution_count": null,
   "metadata": {},
   "outputs": [],
   "source": [
    "print(request)"
   ]
  }
 ],
 "metadata": {
  "kernelspec": {
   "display_name": "Python 3",
   "language": "python",
   "name": "python3"
  },
  "language_info": {
   "codemirror_mode": {
    "name": "ipython",
    "version": 3
   },
   "file_extension": ".py",
   "mimetype": "text/x-python",
   "name": "python",
   "nbconvert_exporter": "python",
   "pygments_lexer": "ipython3",
   "version": "3.12.10"
  }
 },
 "nbformat": 4,
 "nbformat_minor": 2
}
