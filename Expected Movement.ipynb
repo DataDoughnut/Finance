{
 "cells": [
  {
   "cell_type": "code",
   "execution_count": null,
   "metadata": {},
   "outputs": [],
   "source": [
    "import requests\n",
    "import pandas as pd\n",
    "import datetime as date\n",
    "\n",
    "polygon_api_key = open(\"polygon_io_api_key.txt\").read()\n",
    "\n",
    "ticker = 'aapl'.upper()\n"
   ]
  },
  {
   "cell_type": "code",
   "execution_count": 75,
   "metadata": {},
   "outputs": [],
   "source": [
    "last_stock_url = f'https://api.polygon.io/v2/aggs/ticker/{ticker}/prev?adjusted=true&apiKey={polygon_api_key}'\n",
    "last_stock_request = requests.get(last_stock_url)\n",
    "last_stock_result = last_stock_request.json()\n",
    "\n",
    "last_stock_df = pd.DataFrame(last_stock_result['results'])\n",
    "last_close = last_stock_df['c'][0]\n",
    "\n",
    "call_url = f'https://api.polygon.io/v3/snapshot/options/{ticker}?strike_price.gte={last_close}&contract_type=call&order=asc&limit=1&sort=strike_price&apiKey={polygon_api_key}'\n",
    "call_request = requests.get(call_url)\n",
    "call_result = call_request.json()\n",
    "\n",
    "put_url = f'https://api.polygon.io/v3/snapshot/options/{ticker}?strike_price.lte={last_close}&contract_type=call&order=desc&limit=1&sort=strike_price&apiKey={polygon_api_key}'\n",
    "put_request = requests.get(put_url)\n",
    "put_result = put_request.json()"
   ]
  },
  {
   "cell_type": "code",
   "execution_count": null,
   "metadata": {},
   "outputs": [
    {
     "name": "stdout",
     "output_type": "stream",
     "text": [
      "[{'day': {'change': 0, 'change_percent': 0, 'close': 3.13, 'high': 9.35, 'last_updated': 1760126400000000000, 'low': 2.85, 'open': 8.43, 'previous_close': 3.13, 'volume': 8134, 'vwap': 3.9604}, 'details': {'contract_type': 'call', 'exercise_style': 'american', 'expiration_date': '2025-10-17', 'shares_per_contract': 100, 'strike_price': 247.5, 'ticker': 'O:AAPL251017C00247500'}, 'greeks': {'delta': 0.4301607646797087, 'gamma': 0.03964321888685126, 'theta': -0.39224182653151035, 'vega': 0.11642848255273658}, 'implied_volatility': 0.3416997905731155, 'open_interest': 2794, 'underlying_asset': {'ticker': 'AAPL'}}, {'day': {'change': 0, 'change_percent': 0, 'close': 4.49, 'high': 10.6, 'last_updated': 1760126400000000000, 'low': 4.38, 'open': 9.75, 'previous_close': 4.49, 'volume': 1606, 'vwap': 5.5013}, 'details': {'contract_type': 'call', 'exercise_style': 'american', 'expiration_date': '2025-10-24', 'shares_per_contract': 100, 'strike_price': 247.5, 'ticker': 'O:AAPL251024C00247500'}, 'greeks': {'delta': 0.458057887655055, 'gamma': 0.029761423778652128, 'theta': -0.23174625285329686, 'vega': 0.17851130139826257}, 'implied_volatility': 0.29989876091573303, 'open_interest': 171, 'underlying_asset': {'ticker': 'AAPL'}}]\n"
     ]
    }
   ],
   "source": [
    "#Could be used to evaluate implied volatility into the future\n",
    "\n",
    "atm = result['results'][0]['details']['strike_price']\n",
    "#atm = 250\n",
    "\n",
    "atm_url = f'https://api.polygon.io/v3/snapshot/options/{ticker}?strike_price={atm}&contract_type=call&order=asc&limit=250&sort=expiration_date&apiKey={polygon_api_key}'\n",
    "atm_request = requests.get(atm_url)\n",
    "atm_result = atm_request.json()['results']\n",
    "\n",
    "print(atm_result)"
   ]
  }
 ],
 "metadata": {
  "kernelspec": {
   "display_name": ".venv",
   "language": "python",
   "name": "python3"
  },
  "language_info": {
   "codemirror_mode": {
    "name": "ipython",
    "version": 3
   },
   "file_extension": ".py",
   "mimetype": "text/x-python",
   "name": "python",
   "nbconvert_exporter": "python",
   "pygments_lexer": "ipython3",
   "version": "3.13.7"
  }
 },
 "nbformat": 4,
 "nbformat_minor": 2
}
