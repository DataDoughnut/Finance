{
 "cells": [
  {
   "cell_type": "code",
   "execution_count": null,
   "metadata": {},
   "outputs": [],
   "source": [
    "import requests\n",
    "import pandas as pd\n",
    "from datetime import date ,timedelta\n",
    "\n",
    "polygon_api_key = open(\"polygon_io_api_key.txt\").read()\n",
    "\n",
    "ticker = ''.upper()\n",
    "\n",
    "today = datetime.date.today()\n",
    "\n",
    "expiration = datetime.date.today() + timedelta(days=7)\n"
   ]
  },
  {
   "cell_type": "code",
   "execution_count": null,
   "metadata": {},
   "outputs": [],
   "source": [
    "#Identifies the last day's stocks aggregate results\n",
    "#Current free version of the stocks plan only includes up to the last previous day\n",
    "last_stock_url = f'https://api.polygon.io/v2/aggs/ticker/{ticker}/prev?adjusted=true&apiKey={polygon_api_key}'\n",
    "last_stock_request = requests.get(last_stock_url)\n",
    "last_stock_result = last_stock_request.json()\n",
    "\n",
    "last_stock_df = pd.DataFrame(last_stock_result['results'])\n",
    "last_close = last_stock_df['c'][0]\n",
    "\n",
    "#Identify ATM call\n",
    "call_url = f'https://api.polygon.io/v3/snapshot/options/{ticker}?strike_price.gte={last_close}&expiration_date.lte={expiration}&contract_type=call&order=asc&limit=1&sort=strike_price&apiKey={polygon_api_key}'\n",
    "call_request = requests.get(call_url)\n",
    "call_result = call_request.json()\n",
    "\n",
    "#Identify ATM put\n",
    "put_url = f'https://api.polygon.io/v3/snapshot/options/{ticker}?strike_price.lte={last_close}&contract_type=put&expiration_date.lte={expiration}&order=desc&limit=1&sort=strike_price&apiKey={polygon_api_key}'\n",
    "put_request = requests.get(put_url)\n",
    "put_result = put_request.json()\n",
    "\n",
    "call_atm = call_result['results'][0]['day']['previous_close']\n",
    "put_atm = put_result['results'][0]['day']['previous_close']\n",
    "\n",
    "expected_move_straddle = (call_atm + put_atm) * .85\n",
    "\n",
    "print(expected_move_straddle)"
   ]
  }
 ],
 "metadata": {
  "kernelspec": {
   "display_name": ".venv",
   "language": "python",
   "name": "python3"
  },
  "language_info": {
   "codemirror_mode": {
    "name": "ipython",
    "version": 3
   },
   "file_extension": ".py",
   "mimetype": "text/x-python",
   "name": "python",
   "nbconvert_exporter": "python",
   "pygments_lexer": "ipython3",
   "version": "3.13.7"
  }
 },
 "nbformat": 4,
 "nbformat_minor": 2
}
